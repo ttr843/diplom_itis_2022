{
 "cells": [
  {
   "cell_type": "markdown",
   "source": [
    "Импортируем необходимые для работы библиотеки"
   ],
   "metadata": {
    "collapsed": false
   }
  },
  {
   "cell_type": "code",
   "execution_count": 693,
   "outputs": [],
   "source": [
    "import pandas as pd"
   ],
   "metadata": {
    "collapsed": false,
    "pycharm": {
     "name": "#%%\n"
    }
   }
  },
  {
   "cell_type": "markdown",
   "source": [
    "Рассмотрим изначальную выборку данных, в ней содержаться положительные и отрицательные данные"
   ],
   "metadata": {
    "collapsed": false
   }
  },
  {
   "cell_type": "code",
   "execution_count": 694,
   "outputs": [
    {
     "data": {
      "text/plain": "                        Наименование  \\\n0                       144 БТРЗ, АО   \n1                      1470 УМТО, АО   \n2  1472 ВМКГ МИНОБОРОНЫ РОССИИ, ФГБУ   \n3                15 ОТДЕЛ ГФС РОССИИ   \n4                   1520 СИГНАЛ, ООО   \n\n                            Вид деятельности/отрасль  \\\n0                        Ремонт машин и оборудования   \n1           Деятельность по складированию и хранению   \n2                Деятельность больничных организаций   \n3      Деятельность федеральной фельдъегерской связи   \n4  Деятельность по созданию и использованию баз д...   \n\n  Код основного вида деятельности Кредитный лимит, RUB  \\\n0                           33.12                  NaN   \n1                           52.10                  NaN   \n2                           86.10                  NaN   \n3                        53.20.21                  NaN   \n4                         63.11.1           99 870 000   \n\n  Сумма незавершенных исков в роли ответчика, RUB  \\\n0                                            0.00   \n1                                      331,800.00   \n2                                            0.00   \n3                                             NaN   \n4                                            0.00   \n\n  Сумма исполнительных производств      Размер компании  \\\n0                        90,109.00                  NaN   \n1                              NaN    Малые предприятия   \n2                              NaN                  NaN   \n3                              NaN                  NaN   \n4                              NaN  Крупные предприятия   \n\n  2020, Среднесписочная численность работников Уставный капитал, RUB  \\\n0                                          NaN      1,424,335,000.00   \n1                                       325.00      2,374,008,000.00   \n2                                          NaN                   NaN   \n3                                          NaN                   NaN   \n4                                       195.00         11,700,000.00   \n\n  2020, Выручка, RUB 2020, Чистая прибыль (убыток), RUB  result  \n0                NaN                                NaN       1  \n1        575,927,000                        -57,048,000       1  \n2                NaN                                NaN       1  \n3                NaN                                NaN       1  \n4      2,597,915,000                        150,058,000       1  ",
      "text/html": "<div>\n<style scoped>\n    .dataframe tbody tr th:only-of-type {\n        vertical-align: middle;\n    }\n\n    .dataframe tbody tr th {\n        vertical-align: top;\n    }\n\n    .dataframe thead th {\n        text-align: right;\n    }\n</style>\n<table border=\"1\" class=\"dataframe\">\n  <thead>\n    <tr style=\"text-align: right;\">\n      <th></th>\n      <th>Наименование</th>\n      <th>Вид деятельности/отрасль</th>\n      <th>Код основного вида деятельности</th>\n      <th>Кредитный лимит, RUB</th>\n      <th>Сумма незавершенных исков в роли ответчика, RUB</th>\n      <th>Сумма исполнительных производств</th>\n      <th>Размер компании</th>\n      <th>2020, Среднесписочная численность работников</th>\n      <th>Уставный капитал, RUB</th>\n      <th>2020, Выручка, RUB</th>\n      <th>2020, Чистая прибыль (убыток), RUB</th>\n      <th>result</th>\n    </tr>\n  </thead>\n  <tbody>\n    <tr>\n      <th>0</th>\n      <td>144 БТРЗ, АО</td>\n      <td>Ремонт машин и оборудования</td>\n      <td>33.12</td>\n      <td>NaN</td>\n      <td>0.00</td>\n      <td>90,109.00</td>\n      <td>NaN</td>\n      <td>NaN</td>\n      <td>1,424,335,000.00</td>\n      <td>NaN</td>\n      <td>NaN</td>\n      <td>1</td>\n    </tr>\n    <tr>\n      <th>1</th>\n      <td>1470 УМТО, АО</td>\n      <td>Деятельность по складированию и хранению</td>\n      <td>52.10</td>\n      <td>NaN</td>\n      <td>331,800.00</td>\n      <td>NaN</td>\n      <td>Малые предприятия</td>\n      <td>325.00</td>\n      <td>2,374,008,000.00</td>\n      <td>575,927,000</td>\n      <td>-57,048,000</td>\n      <td>1</td>\n    </tr>\n    <tr>\n      <th>2</th>\n      <td>1472 ВМКГ МИНОБОРОНЫ РОССИИ, ФГБУ</td>\n      <td>Деятельность больничных организаций</td>\n      <td>86.10</td>\n      <td>NaN</td>\n      <td>0.00</td>\n      <td>NaN</td>\n      <td>NaN</td>\n      <td>NaN</td>\n      <td>NaN</td>\n      <td>NaN</td>\n      <td>NaN</td>\n      <td>1</td>\n    </tr>\n    <tr>\n      <th>3</th>\n      <td>15 ОТДЕЛ ГФС РОССИИ</td>\n      <td>Деятельность федеральной фельдъегерской связи</td>\n      <td>53.20.21</td>\n      <td>NaN</td>\n      <td>NaN</td>\n      <td>NaN</td>\n      <td>NaN</td>\n      <td>NaN</td>\n      <td>NaN</td>\n      <td>NaN</td>\n      <td>NaN</td>\n      <td>1</td>\n    </tr>\n    <tr>\n      <th>4</th>\n      <td>1520 СИГНАЛ, ООО</td>\n      <td>Деятельность по созданию и использованию баз д...</td>\n      <td>63.11.1</td>\n      <td>99 870 000</td>\n      <td>0.00</td>\n      <td>NaN</td>\n      <td>Крупные предприятия</td>\n      <td>195.00</td>\n      <td>11,700,000.00</td>\n      <td>2,597,915,000</td>\n      <td>150,058,000</td>\n      <td>1</td>\n    </tr>\n  </tbody>\n</table>\n</div>"
     },
     "execution_count": 694,
     "metadata": {},
     "output_type": "execute_result"
    }
   ],
   "source": [
    "df = pd.read_csv(\"C:/projects/diplom/diplom_itis_2022/ml/resources/data.csv\")\n",
    "df.head()"
   ],
   "metadata": {
    "collapsed": false,
    "pycharm": {
     "name": "#%%\n"
    }
   }
  },
  {
   "cell_type": "markdown",
   "source": [
    "В рамках пре подготовки данных:\n",
    "* колонки \"Вид деятельности, отрасль\" и \"Размер компании\" были замены на идентификаторы значений из базы,\n",
    "* Колонки были переименованы\n",
    "* Формат ячеек был изменен на числовой тип"
   ],
   "metadata": {
    "collapsed": false
   }
  },
  {
   "cell_type": "code",
   "execution_count": 695,
   "outputs": [
    {
     "data": {
      "text/plain": "                    companyName  industryId  creditLimit  amountOfLawsuits  \\\n0                     144БТРЗАО       884.0          NaN               0.0   \n1                    1470УМТОАО      1560.0          NaN          331800.0   \n2  1472ВМКГМИНОБОРОНЫРОССИИФГБУ         NaN          NaN               0.0   \n3              15ОТДЕЛГФСРОССИИ      1996.0          NaN               NaN   \n4                 1520СИГНАЛООО      1276.0   99870000.0               0.0   \n\n   amountOfProceedings  companySizeTypeId  amountOfWorkers       capital  \\\n0              90109.0                NaN              NaN  1.424335e+09   \n1                  NaN                2.0            325.0  2.374008e+09   \n2                  NaN                NaN              NaN           NaN   \n3                  NaN                NaN              NaN           NaN   \n4                  NaN                4.0            195.0  1.170000e+07   \n\n        revenue    netProfit  result  \n0           NaN          NaN       1  \n1  5.759270e+08  -57048000.0       1  \n2           NaN          NaN       1  \n3           NaN          NaN       1  \n4  2.597915e+09  150058000.0       1  ",
      "text/html": "<div>\n<style scoped>\n    .dataframe tbody tr th:only-of-type {\n        vertical-align: middle;\n    }\n\n    .dataframe tbody tr th {\n        vertical-align: top;\n    }\n\n    .dataframe thead th {\n        text-align: right;\n    }\n</style>\n<table border=\"1\" class=\"dataframe\">\n  <thead>\n    <tr style=\"text-align: right;\">\n      <th></th>\n      <th>companyName</th>\n      <th>industryId</th>\n      <th>creditLimit</th>\n      <th>amountOfLawsuits</th>\n      <th>amountOfProceedings</th>\n      <th>companySizeTypeId</th>\n      <th>amountOfWorkers</th>\n      <th>capital</th>\n      <th>revenue</th>\n      <th>netProfit</th>\n      <th>result</th>\n    </tr>\n  </thead>\n  <tbody>\n    <tr>\n      <th>0</th>\n      <td>144БТРЗАО</td>\n      <td>884.0</td>\n      <td>NaN</td>\n      <td>0.0</td>\n      <td>90109.0</td>\n      <td>NaN</td>\n      <td>NaN</td>\n      <td>1.424335e+09</td>\n      <td>NaN</td>\n      <td>NaN</td>\n      <td>1</td>\n    </tr>\n    <tr>\n      <th>1</th>\n      <td>1470УМТОАО</td>\n      <td>1560.0</td>\n      <td>NaN</td>\n      <td>331800.0</td>\n      <td>NaN</td>\n      <td>2.0</td>\n      <td>325.0</td>\n      <td>2.374008e+09</td>\n      <td>5.759270e+08</td>\n      <td>-57048000.0</td>\n      <td>1</td>\n    </tr>\n    <tr>\n      <th>2</th>\n      <td>1472ВМКГМИНОБОРОНЫРОССИИФГБУ</td>\n      <td>NaN</td>\n      <td>NaN</td>\n      <td>0.0</td>\n      <td>NaN</td>\n      <td>NaN</td>\n      <td>NaN</td>\n      <td>NaN</td>\n      <td>NaN</td>\n      <td>NaN</td>\n      <td>1</td>\n    </tr>\n    <tr>\n      <th>3</th>\n      <td>15ОТДЕЛГФСРОССИИ</td>\n      <td>1996.0</td>\n      <td>NaN</td>\n      <td>NaN</td>\n      <td>NaN</td>\n      <td>NaN</td>\n      <td>NaN</td>\n      <td>NaN</td>\n      <td>NaN</td>\n      <td>NaN</td>\n      <td>1</td>\n    </tr>\n    <tr>\n      <th>4</th>\n      <td>1520СИГНАЛООО</td>\n      <td>1276.0</td>\n      <td>99870000.0</td>\n      <td>0.0</td>\n      <td>NaN</td>\n      <td>4.0</td>\n      <td>195.0</td>\n      <td>1.170000e+07</td>\n      <td>2.597915e+09</td>\n      <td>150058000.0</td>\n      <td>1</td>\n    </tr>\n  </tbody>\n</table>\n</div>"
     },
     "execution_count": 695,
     "metadata": {},
     "output_type": "execute_result"
    }
   ],
   "source": [
    "df = pd.read_csv(\"C:/projects/diplom/diplom_itis_2022/ml/resources/pre_prepared_data.csv\")\n",
    "df.head()"
   ],
   "metadata": {
    "collapsed": false,
    "pycharm": {
     "name": "#%%\n"
    }
   }
  },
  {
   "cell_type": "markdown",
   "source": [
    "Узнаем количество ячеек"
   ],
   "metadata": {
    "collapsed": false
   }
  },
  {
   "cell_type": "code",
   "execution_count": 696,
   "outputs": [
    {
     "data": {
      "text/plain": "(129037, 11)"
     },
     "execution_count": 696,
     "metadata": {},
     "output_type": "execute_result"
    }
   ],
   "source": [
    "df.shape"
   ],
   "metadata": {
    "collapsed": false,
    "pycharm": {
     "name": "#%%\n"
    }
   }
  },
  {
   "cell_type": "markdown",
   "source": [
    "Узнаем количество ячеек, значение которых отличны от null"
   ],
   "metadata": {
    "collapsed": false
   }
  },
  {
   "cell_type": "code",
   "execution_count": 697,
   "outputs": [
    {
     "name": "stdout",
     "output_type": "stream",
     "text": [
      "<class 'pandas.core.frame.DataFrame'>\n",
      "RangeIndex: 129037 entries, 0 to 129036\n",
      "Data columns (total 11 columns):\n",
      " #   Column               Non-Null Count   Dtype  \n",
      "---  ------               --------------   -----  \n",
      " 0   companyName          129037 non-null  object \n",
      " 1   industryId           113073 non-null  float64\n",
      " 2   creditLimit          52839 non-null   float64\n",
      " 3   amountOfLawsuits     106564 non-null  float64\n",
      " 4   amountOfProceedings  24732 non-null   float64\n",
      " 5   companySizeTypeId    107807 non-null  float64\n",
      " 6   amountOfWorkers      93529 non-null   float64\n",
      " 7   capital              111866 non-null  float64\n",
      " 8   revenue              102561 non-null  float64\n",
      " 9   netProfit            103846 non-null  float64\n",
      " 10  result               129037 non-null  int64  \n",
      "dtypes: float64(9), int64(1), object(1)\n",
      "memory usage: 10.8+ MB\n"
     ]
    }
   ],
   "source": [
    "df.info()"
   ],
   "metadata": {
    "collapsed": false,
    "pycharm": {
     "name": "#%%\n"
    }
   }
  },
  {
   "cell_type": "markdown",
   "source": [
    "Пройдемся по колонкам:\n",
    "\n",
    "* companyName - название компании\n",
    "* industryId - идентификатор отрасли(вида деятельности) компании\n",
    "* creditLimit - Кредитный лимит, RUB\n",
    "* amountOfLawsuits - Сумма незавершенных исков в роли ответчика, RUB\n",
    "* amountOfProceedings - Сумма исполнительных производств, RUB\n",
    "* amountOfWorkers - Среднесписочная численность работников\n",
    "* capital - Уставный капитал, RUB\n",
    "* revenue - Выручка, RUB\n",
    "* netProfit - Чистая прибыль (убыток), RUB\n",
    "* companySizeTypeId - идентификатор размера компании\n",
    "* result - Был выдан кредит или нет."
   ],
   "metadata": {
    "collapsed": false,
    "pycharm": {
     "name": "#%% md\n"
    }
   }
  },
  {
   "cell_type": "markdown",
   "source": [
    "Узнаем eсть ли в данных аномалии"
   ],
   "metadata": {
    "collapsed": false,
    "pycharm": {
     "name": "#%% md\n"
    }
   }
  },
  {
   "cell_type": "code",
   "execution_count": 698,
   "outputs": [
    {
     "data": {
      "text/plain": "          industryId   creditLimit  amountOfLawsuits  amountOfProceedings  \\\ncount  113073.000000  5.283900e+04      1.065640e+05         2.473200e+04   \nmean     1612.065347  4.695684e+07      1.546332e+07         7.646417e+06   \nstd       445.654236  7.666772e+08      1.752232e+09         2.997519e+08   \nmin       812.000000  1.000000e+05      0.000000e+00         0.000000e+00   \n25%      1229.000000  3.200000e+05      0.000000e+00         1.000000e+03   \n50%      1623.000000  1.610000e+06      0.000000e+00         2.030000e+04   \n75%      2034.000000  7.730000e+06      0.000000e+00         3.257382e+05   \nmax      2366.000000  8.564604e+10      4.232792e+11         4.342200e+10   \n\n       companySizeTypeId  amountOfWorkers       capital       revenue  \\\ncount      107807.000000     93529.000000  1.118660e+05  1.025610e+05   \nmean            1.295593        60.147430  1.222584e+08  7.394278e+08   \nstd             0.675661      2567.492354  8.539317e+09  2.047816e+10   \nmin             1.000000         1.000000  1.000000e+00 -2.396700e+07   \n25%             1.000000         3.000000  1.000000e+04  5.630000e+06   \n50%             1.000000         8.000000  1.000000e+04  2.186900e+07   \n75%             1.000000        25.000000  1.000000e+05  8.860800e+07   \nmax             4.000000    706887.000000  2.497025e+12  4.835091e+12   \n\n          netProfit        result  \ncount  1.038460e+05  129037.00000  \nmean   4.575355e+07       0.95206  \nstd    3.543819e+09       0.21364  \nmin   -3.710212e+11       0.00000  \n25%    8.000000e+03       1.00000  \n50%    4.790000e+05       1.00000  \n75%    3.878750e+06       1.00000  \nmax    7.295785e+11       1.00000  ",
      "text/html": "<div>\n<style scoped>\n    .dataframe tbody tr th:only-of-type {\n        vertical-align: middle;\n    }\n\n    .dataframe tbody tr th {\n        vertical-align: top;\n    }\n\n    .dataframe thead th {\n        text-align: right;\n    }\n</style>\n<table border=\"1\" class=\"dataframe\">\n  <thead>\n    <tr style=\"text-align: right;\">\n      <th></th>\n      <th>industryId</th>\n      <th>creditLimit</th>\n      <th>amountOfLawsuits</th>\n      <th>amountOfProceedings</th>\n      <th>companySizeTypeId</th>\n      <th>amountOfWorkers</th>\n      <th>capital</th>\n      <th>revenue</th>\n      <th>netProfit</th>\n      <th>result</th>\n    </tr>\n  </thead>\n  <tbody>\n    <tr>\n      <th>count</th>\n      <td>113073.000000</td>\n      <td>5.283900e+04</td>\n      <td>1.065640e+05</td>\n      <td>2.473200e+04</td>\n      <td>107807.000000</td>\n      <td>93529.000000</td>\n      <td>1.118660e+05</td>\n      <td>1.025610e+05</td>\n      <td>1.038460e+05</td>\n      <td>129037.00000</td>\n    </tr>\n    <tr>\n      <th>mean</th>\n      <td>1612.065347</td>\n      <td>4.695684e+07</td>\n      <td>1.546332e+07</td>\n      <td>7.646417e+06</td>\n      <td>1.295593</td>\n      <td>60.147430</td>\n      <td>1.222584e+08</td>\n      <td>7.394278e+08</td>\n      <td>4.575355e+07</td>\n      <td>0.95206</td>\n    </tr>\n    <tr>\n      <th>std</th>\n      <td>445.654236</td>\n      <td>7.666772e+08</td>\n      <td>1.752232e+09</td>\n      <td>2.997519e+08</td>\n      <td>0.675661</td>\n      <td>2567.492354</td>\n      <td>8.539317e+09</td>\n      <td>2.047816e+10</td>\n      <td>3.543819e+09</td>\n      <td>0.21364</td>\n    </tr>\n    <tr>\n      <th>min</th>\n      <td>812.000000</td>\n      <td>1.000000e+05</td>\n      <td>0.000000e+00</td>\n      <td>0.000000e+00</td>\n      <td>1.000000</td>\n      <td>1.000000</td>\n      <td>1.000000e+00</td>\n      <td>-2.396700e+07</td>\n      <td>-3.710212e+11</td>\n      <td>0.00000</td>\n    </tr>\n    <tr>\n      <th>25%</th>\n      <td>1229.000000</td>\n      <td>3.200000e+05</td>\n      <td>0.000000e+00</td>\n      <td>1.000000e+03</td>\n      <td>1.000000</td>\n      <td>3.000000</td>\n      <td>1.000000e+04</td>\n      <td>5.630000e+06</td>\n      <td>8.000000e+03</td>\n      <td>1.00000</td>\n    </tr>\n    <tr>\n      <th>50%</th>\n      <td>1623.000000</td>\n      <td>1.610000e+06</td>\n      <td>0.000000e+00</td>\n      <td>2.030000e+04</td>\n      <td>1.000000</td>\n      <td>8.000000</td>\n      <td>1.000000e+04</td>\n      <td>2.186900e+07</td>\n      <td>4.790000e+05</td>\n      <td>1.00000</td>\n    </tr>\n    <tr>\n      <th>75%</th>\n      <td>2034.000000</td>\n      <td>7.730000e+06</td>\n      <td>0.000000e+00</td>\n      <td>3.257382e+05</td>\n      <td>1.000000</td>\n      <td>25.000000</td>\n      <td>1.000000e+05</td>\n      <td>8.860800e+07</td>\n      <td>3.878750e+06</td>\n      <td>1.00000</td>\n    </tr>\n    <tr>\n      <th>max</th>\n      <td>2366.000000</td>\n      <td>8.564604e+10</td>\n      <td>4.232792e+11</td>\n      <td>4.342200e+10</td>\n      <td>4.000000</td>\n      <td>706887.000000</td>\n      <td>2.497025e+12</td>\n      <td>4.835091e+12</td>\n      <td>7.295785e+11</td>\n      <td>1.00000</td>\n    </tr>\n  </tbody>\n</table>\n</div>"
     },
     "execution_count": 698,
     "metadata": {},
     "output_type": "execute_result"
    }
   ],
   "source": [
    "df.describe()"
   ],
   "metadata": {
    "collapsed": false,
    "pycharm": {
     "name": "#%%\n"
    }
   }
  },
  {
   "cell_type": "markdown",
   "source": [
    "Посмотри количество NaN значений"
   ],
   "metadata": {
    "collapsed": false,
    "pycharm": {
     "name": "#%% md\n"
    }
   }
  },
  {
   "cell_type": "code",
   "execution_count": 699,
   "outputs": [
    {
     "data": {
      "text/plain": "companyName                 0\nindustryId              15964\ncreditLimit             76198\namountOfLawsuits        22473\namountOfProceedings    104305\ncompanySizeTypeId       21230\namountOfWorkers         35508\ncapital                 17171\nrevenue                 26476\nnetProfit               25191\nresult                      0\ndtype: int64"
     },
     "execution_count": 699,
     "metadata": {},
     "output_type": "execute_result"
    }
   ],
   "source": [
    "df.isnull().sum()"
   ],
   "metadata": {
    "collapsed": false,
    "pycharm": {
     "name": "#%%\n"
    }
   }
  },
  {
   "cell_type": "markdown",
   "source": [
    "Возьмем названия всех колонок"
   ],
   "metadata": {
    "collapsed": false
   }
  },
  {
   "cell_type": "code",
   "execution_count": 700,
   "outputs": [
    {
     "data": {
      "text/plain": "Index(['companyName', 'industryId', 'creditLimit', 'amountOfLawsuits',\n       'amountOfProceedings', 'companySizeTypeId', 'amountOfWorkers',\n       'capital', 'revenue', 'netProfit', 'result'],\n      dtype='object')"
     },
     "execution_count": 700,
     "metadata": {},
     "output_type": "execute_result"
    }
   ],
   "source": [
    "df.columns"
   ],
   "metadata": {
    "collapsed": false,
    "pycharm": {
     "name": "#%%\n"
    }
   }
  },
  {
   "cell_type": "markdown",
   "source": [
    "#### Рассмотрим результирующее значение, колонка \"result\""
   ],
   "metadata": {
    "collapsed": false
   }
  },
  {
   "cell_type": "code",
   "execution_count": 701,
   "outputs": [
    {
     "name": "stdout",
     "output_type": "stream",
     "text": [
      "1    122851\n",
      "0      6186\n",
      "Name: result, dtype: int64\n"
     ]
    },
    {
     "data": {
      "text/plain": "<AxesSubplot:>"
     },
     "execution_count": 701,
     "metadata": {},
     "output_type": "execute_result"
    },
    {
     "data": {
      "text/plain": "<Figure size 432x288 with 1 Axes>",
      "image/png": "[encoded data removed]"
     },
     "metadata": {
      "needs_background": "light"
     },
     "output_type": "display_data"
    }
   ],
   "source": [
    "print(df[\"result\"].value_counts())\n",
    "df[\"result\"].value_counts().plot(kind='barh')"
   ],
   "metadata": {
    "collapsed": false,
    "pycharm": {
     "name": "#%%\n"
    }
   }
  },
  {
   "cell_type": "markdown",
   "source": [
    "Можно сделать вывод, что в нашей выборке преобладает количество\n",
    "положительно рассмотренных заявок:\n",
    "* всего - 129037 - 100 %\n",
    "* положительные - 122851 - 95.2 %\n",
    "* отрицательные - 6186 - 4.8 %"
   ],
   "metadata": {
    "collapsed": false,
    "pycharm": {
     "name": "#%% md\n"
    }
   }
  },
  {
   "cell_type": "markdown",
   "source": [
    "Далее будем рассматривать значения в столбцах на\n",
    " основании которые был сделан вывод"
   ],
   "metadata": {
    "collapsed": false
   }
  },
  {
   "cell_type": "markdown",
   "source": [
    "#### IndustryId - идентификатор отрасли(вида дейтельности) компании"
   ],
   "metadata": {
    "collapsed": false,
    "pycharm": {
     "name": "#%% md\n"
    }
   }
  },
  {
   "cell_type": "code",
   "execution_count": 702,
   "outputs": [
    {
     "name": "stdout",
     "output_type": "stream",
     "text": [
      "2112.0    6763\n",
      "1951.0    3625\n",
      "1145.0    2932\n",
      "1819.0    2804\n",
      "1364.0    1789\n",
      "          ... \n",
      "1025.0       1\n",
      "1342.0       1\n",
      "845.0        1\n",
      "1326.0       1\n",
      "1085.0       1\n",
      "Name: industryId, Length: 1554, dtype: int64\n"
     ]
    }
   ],
   "source": [
    "print(df[\"industryId\"].value_counts())"
   ],
   "metadata": {
    "collapsed": false,
    "pycharm": {
     "name": "#%%\n"
    }
   }
  },
  {
   "cell_type": "markdown",
   "source": [
    "Необходимо заменить все NaN на идентификатор 0 (значение не указано)."
   ],
   "metadata": {
    "collapsed": false,
    "pycharm": {
     "name": "#%% md\n"
    }
   }
  },
  {
   "cell_type": "code",
   "execution_count": 703,
   "outputs": [
    {
     "data": {
      "text/plain": "<AxesSubplot:ylabel='Frequency'>"
     },
     "execution_count": 703,
     "metadata": {},
     "output_type": "execute_result"
    },
    {
     "data": {
      "text/plain": "<Figure size 1080x540 with 1 Axes>",
      "image/png": "[encoded data removed]"
     },
     "metadata": {
      "needs_background": "light"
     },
     "output_type": "display_data"
    }
   ],
   "source": [
    "df[\"industryId\"].fillna(value=0,inplace=True)\n",
    "df[\"industryId\"].plot.hist(bins = 20,figsize=(15,7.5))"
   ],
   "metadata": {
    "collapsed": false,
    "pycharm": {
     "name": "#%%\n"
    }
   }
  },
  {
   "cell_type": "markdown",
   "source": [
    "Как можно увидеть, отрасли компаний в нашей выборке различны, но преобладают:\n",
    "* идентификатор - 2112 - Строительство жилых и нежилых зданий\n",
    "* идентификатор - 1951 - Деятельность частных охранных служб\n",
    "* идентификатор - 0 - не указано"
   ],
   "metadata": {
    "collapsed": false,
    "pycharm": {
     "name": "#%% md\n"
    }
   }
  },
  {
   "cell_type": "markdown",
   "source": [
    "#### CreditLimit - Кредитный лимит, RUB"
   ],
   "metadata": {
    "collapsed": false,
    "pycharm": {
     "name": "#%% md\n"
    }
   }
  },
  {
   "cell_type": "code",
   "execution_count": 704,
   "outputs": [
    {
     "name": "stdout",
     "output_type": "stream",
     "text": [
      "1.000000e+05    6766\n",
      "1.100000e+05     437\n",
      "1.300000e+05     415\n",
      "1.500000e+05     391\n",
      "1.200000e+05     385\n",
      "                ... \n",
      "5.643000e+07       1\n",
      "5.121000e+07       1\n",
      "1.266700e+08       1\n",
      "1.308850e+09       1\n",
      "1.621100e+08       1\n",
      "Name: creditLimit, Length: 7459, dtype: int64\n"
     ]
    }
   ],
   "source": [
    "print(df[\"creditLimit\"].value_counts())"
   ],
   "metadata": {
    "collapsed": false,
    "pycharm": {
     "name": "#%%\n"
    }
   }
  },
  {
   "cell_type": "code",
   "execution_count": 705,
   "outputs": [
    {
     "name": "stdout",
     "output_type": "stream",
     "text": [
      "719417     76198\n",
      "1000000    30626\n",
      "100000      6766\n",
      "110000       437\n",
      "130000       415\n",
      "           ...  \n",
      "980000        81\n",
      "850000        80\n",
      "940000        76\n",
      "950000        74\n",
      "960000        71\n",
      "Name: creditLimit, Length: 92, dtype: int64\n"
     ]
    },
    {
     "data": {
      "text/plain": "<AxesSubplot:ylabel='Frequency'>"
     },
     "execution_count": 705,
     "metadata": {},
     "output_type": "execute_result"
    },
    {
     "data": {
      "text/plain": "<Figure size 1080x540 with 1 Axes>",
      "image/png": "[encoded data removed]"
     },
     "metadata": {
      "needs_background": "light"
     },
     "output_type": "display_data"
    }
   ],
   "source": [
    "df.loc[df[\"creditLimit\"]>= 1000000,\"creditLimit\"] = 1000000\n",
    "df[\"creditLimit\"].fillna(value=df[\"creditLimit\"].mean(),inplace=True)\n",
    "df['creditLimit']=df['creditLimit'].astype(int)\n",
    "print(df[\"creditLimit\"].value_counts())\n",
    "df[\"creditLimit\"].plot.hist(bins = 20,figsize=(15,7.5))"
   ],
   "metadata": {
    "collapsed": false,
    "pycharm": {
     "name": "#%%\n"
    }
   }
  },
  {
   "cell_type": "markdown",
   "source": [
    "#### AmountOfLawsuits - Сумма незавершенных исков в роли ответчика, RUB"
   ],
   "metadata": {
    "collapsed": false
   }
  },
  {
   "cell_type": "code",
   "execution_count": 706,
   "outputs": [
    {
     "name": "stdout",
     "output_type": "stream",
     "text": [
      "0.0          93051\n",
      "50000.0        109\n",
      "100000.0        31\n",
      "3500.0          22\n",
      "6000.0          22\n",
      "             ...  \n",
      "8356050.0        1\n",
      "4789825.0        1\n",
      "2206383.0        1\n",
      "721248.0         1\n",
      "616653.0         1\n",
      "Name: amountOfLawsuits, Length: 12653, dtype: int64\n",
      "0.000000         93051\n",
      "10942.836802     22473\n",
      "100000.000000    10547\n",
      "50000.000000       109\n",
      "6000.000000         22\n",
      "                 ...  \n",
      "54331.000000         1\n",
      "94744.000000         1\n",
      "8151.000000          1\n",
      "80839.000000         1\n",
      "62643.000000         1\n",
      "Name: amountOfLawsuits, Length: 2461, dtype: int64\n"
     ]
    },
    {
     "data": {
      "text/plain": "<AxesSubplot:ylabel='Frequency'>"
     },
     "execution_count": 706,
     "metadata": {},
     "output_type": "execute_result"
    },
    {
     "data": {
      "text/plain": "<Figure size 1080x540 with 1 Axes>",
      "image/png": "[encoded data removed]"
     },
     "metadata": {
      "needs_background": "light"
     },
     "output_type": "display_data"
    }
   ],
   "source": [
    "print(df[\"amountOfLawsuits\"].value_counts())\n",
    "df.loc[df[\"amountOfLawsuits\"]>= 100000,\"amountOfLawsuits\"] = 100000\n",
    "df[\"amountOfLawsuits\"].fillna(value=df[\"amountOfLawsuits\"].mean(),inplace=True)\n",
    "print(df[\"amountOfLawsuits\"].value_counts())\n",
    "df[\"amountOfLawsuits\"].plot.hist(bins = 20,figsize=(15,7.5))"
   ],
   "metadata": {
    "collapsed": false,
    "pycharm": {
     "name": "#%%\n"
    }
   }
  },
  {
   "cell_type": "markdown",
   "source": [
    "Как можно заметить на графике, преобладает значение 0.0.\n",
    "Это вполне корректно, так как рассматривается показатель \"сумма незавершенных исков\",\n",
    "а процент положительно одобренных заявок в датасете 95"
   ],
   "metadata": {
    "collapsed": false
   }
  },
  {
   "cell_type": "markdown",
   "source": [
    "#### AmountOfProceedings - Сумма исполнительных производств, RUB"
   ],
   "metadata": {
    "collapsed": false,
    "pycharm": {
     "name": "#%% md\n"
    }
   }
  },
  {
   "cell_type": "code",
   "execution_count": 707,
   "outputs": [
    {
     "name": "stdout",
     "output_type": "stream",
     "text": [
      "0.0           3632\n",
      "500.0         1449\n",
      "10000.0        971\n",
      "1000.0         710\n",
      "1500.0         279\n",
      "              ... \n",
      "71383.0          1\n",
      "86329.0          1\n",
      "6577017.0        1\n",
      "62641075.0       1\n",
      "589762.0         1\n",
      "Name: amountOfProceedings, Length: 13287, dtype: int64\n",
      "44434.698973     104305\n",
      "100000.000000      8708\n",
      "0.000000           3632\n",
      "500.000000         1449\n",
      "10000.000000        971\n",
      "                  ...  \n",
      "59494.000000          1\n",
      "16682.000000          1\n",
      "28496.000000          1\n",
      "59354.000000          1\n",
      "69785.000000          1\n",
      "Name: amountOfProceedings, Length: 5029, dtype: int64\n"
     ]
    },
    {
     "data": {
      "text/plain": "<AxesSubplot:ylabel='Frequency'>"
     },
     "execution_count": 707,
     "metadata": {},
     "output_type": "execute_result"
    },
    {
     "data": {
      "text/plain": "<Figure size 1080x540 with 1 Axes>",
      "image/png": "[encoded data removed]"
     },
     "metadata": {
      "needs_background": "light"
     },
     "output_type": "display_data"
    }
   ],
   "source": [
    "print(df[\"amountOfProceedings\"].value_counts())\n",
    "df.loc[df[\"amountOfProceedings\"]>= 100000,\"amountOfProceedings\"] = 100000\n",
    "df[\"amountOfProceedings\"].fillna(value=df[\"amountOfProceedings\"].mean(),inplace=True)\n",
    "print(df[\"amountOfProceedings\"].value_counts())\n",
    "df[\"amountOfProceedings\"].plot.hist(bins = 20,figsize=(15,7.5))"
   ],
   "metadata": {
    "collapsed": false,
    "pycharm": {
     "name": "#%%\n"
    }
   }
  },
  {
   "cell_type": "markdown",
   "source": [
    "#### AmountOfWorkers - Среднесписочная численность работников"
   ],
   "metadata": {
    "collapsed": false
   }
  },
  {
   "cell_type": "code",
   "execution_count": 708,
   "outputs": [
    {
     "name": "stdout",
     "output_type": "stream",
     "text": [
      "1.0       12725\n",
      "2.0        7797\n",
      "3.0        6674\n",
      "4.0        5606\n",
      "5.0        4531\n",
      "          ...  \n",
      "2209.0        1\n",
      "981.0         1\n",
      "5240.0        1\n",
      "1860.0        1\n",
      "2278.0        1\n",
      "Name: amountOfWorkers, Length: 1312, dtype: int64\n",
      "21.239273     35508\n",
      "1.000000      12725\n",
      "2.000000       7797\n",
      "3.000000       6674\n",
      "100.000000     6483\n",
      "              ...  \n",
      "97.000000        73\n",
      "91.000000        70\n",
      "92.000000        70\n",
      "95.000000        69\n",
      "96.000000        54\n",
      "Name: amountOfWorkers, Length: 101, dtype: int64\n"
     ]
    },
    {
     "data": {
      "text/plain": "<AxesSubplot:ylabel='Frequency'>"
     },
     "execution_count": 708,
     "metadata": {},
     "output_type": "execute_result"
    },
    {
     "data": {
      "text/plain": "<Figure size 1080x540 with 1 Axes>",
      "image/png": "[encoded data removed]"
     },
     "metadata": {
      "needs_background": "light"
     },
     "output_type": "display_data"
    }
   ],
   "source": [
    "print(df[\"amountOfWorkers\"].value_counts())\n",
    "df.loc[df[\"amountOfWorkers\"]>= 100,\"amountOfWorkers\"] = 100\n",
    "df[\"amountOfWorkers\"].fillna(value=df[\"amountOfWorkers\"].mean(),inplace=True)\n",
    "print(df[\"amountOfWorkers\"].value_counts())\n",
    "df[\"amountOfWorkers\"].plot.hist(bins = 20,figsize=(15,7.5))\n"
   ],
   "metadata": {
    "collapsed": false,
    "pycharm": {
     "name": "#%%\n"
    }
   }
  },
  {
   "cell_type": "markdown",
   "source": [
    "#### CompanySizeTypeId - идентификатор размера компании"
   ],
   "metadata": {
    "collapsed": false
   }
  },
  {
   "cell_type": "code",
   "execution_count": 709,
   "outputs": [
    {
     "name": "stdout",
     "output_type": "stream",
     "text": [
      "1.0    86047\n",
      "2.0    14930\n",
      "3.0     3553\n",
      "4.0     3277\n",
      "Name: companySizeTypeId, dtype: int64\n"
     ]
    }
   ],
   "source": [
    "print(df[\"companySizeTypeId\"].value_counts())"
   ],
   "metadata": {
    "collapsed": false,
    "pycharm": {
     "name": "#%%\n"
    }
   }
  },
  {
   "cell_type": "markdown",
   "source": [
    "Необходимо заменить все NaN на идентификатор 0 (значение не указано)."
   ],
   "metadata": {
    "collapsed": false
   }
  },
  {
   "cell_type": "code",
   "execution_count": 710,
   "outputs": [
    {
     "name": "stdout",
     "output_type": "stream",
     "text": [
      "1.0    86047\n",
      "0.0    21230\n",
      "2.0    14930\n",
      "3.0     3553\n",
      "4.0     3277\n",
      "Name: companySizeTypeId, dtype: int64\n"
     ]
    },
    {
     "data": {
      "text/plain": "<AxesSubplot:ylabel='Frequency'>"
     },
     "execution_count": 710,
     "metadata": {},
     "output_type": "execute_result"
    },
    {
     "data": {
      "text/plain": "<Figure size 1080x540 with 1 Axes>",
      "image/png": "[encoded data removed]"
     },
     "metadata": {
      "needs_background": "light"
     },
     "output_type": "display_data"
    }
   ],
   "source": [
    "df[\"companySizeTypeId\"].fillna(value=0,inplace=True)\n",
    "print(df[\"companySizeTypeId\"].value_counts())\n",
    "df[\"companySizeTypeId\"].plot.hist(bins = 20,figsize=(15,7.5))"
   ],
   "metadata": {
    "collapsed": false,
    "pycharm": {
     "name": "#%%\n"
    }
   }
  },
  {
   "cell_type": "markdown",
   "source": [
    "Как можно увидеть, размер компаний в нашей выборке различен, но преобладает:\n",
    "* идентификатор - 1 - Микропредприятия"
   ],
   "metadata": {
    "collapsed": false
   }
  },
  {
   "cell_type": "markdown",
   "source": [
    "#### Capital - Уставный капитал, RUB"
   ],
   "metadata": {
    "collapsed": false,
    "pycharm": {
     "name": "#%% md\n"
    }
   }
  },
  {
   "cell_type": "code",
   "execution_count": 711,
   "outputs": [
    {
     "name": "stdout",
     "output_type": "stream",
     "text": [
      "1.000000e+04    54411\n",
      "2.000000e+04     4779\n",
      "1.000000e+05     3987\n",
      "2.500000e+05     2814\n",
      "1.500000e+04     2097\n",
      "                ...  \n",
      "2.357090e+06        1\n",
      "1.019366e+09        1\n",
      "2.209166e+09        1\n",
      "7.203368e+07        1\n",
      "1.294100e+04        1\n",
      "Name: capital, Length: 13315, dtype: int64\n",
      "10000.000000     54411\n",
      "100000.000000    30563\n",
      "37789.655633     17171\n",
      "20000.000000      4779\n",
      "15000.000000      2097\n",
      "                 ...  \n",
      "16665.000000         1\n",
      "8840.000000          1\n",
      "4542.000000          1\n",
      "26369.000000         1\n",
      "12941.000000         1\n",
      "Name: capital, Length: 2371, dtype: int64\n"
     ]
    },
    {
     "data": {
      "text/plain": "<AxesSubplot:ylabel='Frequency'>"
     },
     "execution_count": 711,
     "metadata": {},
     "output_type": "execute_result"
    },
    {
     "data": {
      "text/plain": "<Figure size 1080x540 with 1 Axes>",
      "image/png": "[encoded data removed]"
     },
     "metadata": {
      "needs_background": "light"
     },
     "output_type": "display_data"
    }
   ],
   "source": [
    "print(df[\"capital\"].value_counts())\n",
    "df.loc[df[\"capital\"]>= 100000,\"capital\"] = 100000\n",
    "df[\"capital\"].fillna(value=df[\"capital\"].mean(),inplace=True)\n",
    "print(df[\"capital\"].value_counts())\n",
    "df[\"capital\"].plot.hist(bins = 20,figsize=(15,7.5))"
   ],
   "metadata": {
    "collapsed": false,
    "pycharm": {
     "name": "#%%\n"
    }
   }
  },
  {
   "cell_type": "markdown",
   "source": [
    "#### Revenue - Выручка, RUB"
   ],
   "metadata": {
    "collapsed": false
   }
  },
  {
   "cell_type": "code",
   "execution_count": 712,
   "outputs": [
    {
     "name": "stdout",
     "output_type": "stream",
     "text": [
      "1.200000e+05    32\n",
      "6.000000e+04    27\n",
      "6.000000e+05    26\n",
      "3.000000e+05    25\n",
      "1.000000e+05    24\n",
      "                ..\n",
      "1.961000e+07     1\n",
      "1.074170e+08     1\n",
      "4.249200e+07     1\n",
      "1.695997e+09     1\n",
      "4.566600e+07     1\n",
      "Name: revenue, Length: 63214, dtype: int64\n",
      "1.000000e+06    66779\n",
      "1.990059e+06    26476\n",
      "1.200000e+05       32\n",
      "6.000000e+04       27\n",
      "6.000000e+05       26\n",
      "                ...  \n",
      "9.436000e+06        1\n",
      "7.734000e+06        1\n",
      "7.605000e+06        1\n",
      "4.207000e+06        1\n",
      "6.432000e+06        1\n",
      "Name: revenue, Length: 9421, dtype: int64\n"
     ]
    },
    {
     "data": {
      "text/plain": "<AxesSubplot:ylabel='Frequency'>"
     },
     "execution_count": 712,
     "metadata": {},
     "output_type": "execute_result"
    },
    {
     "data": {
      "text/plain": "<Figure size 1080x540 with 1 Axes>",
      "image/png": "[encoded data removed]"
     },
     "metadata": {
      "needs_background": "light"
     },
     "output_type": "display_data"
    }
   ],
   "source": [
    "print(df[\"revenue\"].value_counts())\n",
    "df.loc[df[\"revenue\"]<= 0,\"revenue\"] = 0\n",
    "df.loc[df[\"revenue\"]>= 10000000,\"revenue\"] = 1000000\n",
    "df[\"revenue\"].fillna(value=df[\"revenue\"].mean(),inplace=True)\n",
    "print(df[\"revenue\"].value_counts())\n",
    "df[\"revenue\"].plot.hist(bins = 20,figsize=(15,7.5))"
   ],
   "metadata": {
    "collapsed": false,
    "pycharm": {
     "name": "#%%\n"
    }
   }
  },
  {
   "cell_type": "markdown",
   "source": [
    "#### NetProfit - Чистая прибыль (убыток), RUB"
   ],
   "metadata": {
    "collapsed": false
   }
  },
  {
   "cell_type": "code",
   "execution_count": 713,
   "outputs": [
    {
     "name": "stdout",
     "output_type": "stream",
     "text": [
      " 1000.0        509\n",
      " 2000.0        426\n",
      " 3000.0        292\n",
      " 6000.0        288\n",
      " 4000.0        282\n",
      "              ... \n",
      "-27929000.0      1\n",
      " 13590000.0      1\n",
      "-39163000.0      1\n",
      " 10703000.0      1\n",
      " 9876000.0       1\n",
      "Name: netProfit, Length: 31370, dtype: int64\n",
      "1.215160e+06    25191\n",
      "0.000000e+00    23496\n",
      "1.000000e+06    15896\n",
      "1.000000e+03      509\n",
      "2.000000e+03      426\n",
      "                ...  \n",
      "9.511000e+06        1\n",
      "6.784000e+06        1\n",
      "4.254000e+06        1\n",
      "7.189000e+06        1\n",
      "9.876000e+06        1\n",
      "Name: netProfit, Length: 8565, dtype: int64\n"
     ]
    },
    {
     "data": {
      "text/plain": "<AxesSubplot:ylabel='Frequency'>"
     },
     "execution_count": 713,
     "metadata": {},
     "output_type": "execute_result"
    },
    {
     "data": {
      "text/plain": "<Figure size 1080x540 with 1 Axes>",
      "image/png": "[encoded data removed]"
     },
     "metadata": {
      "needs_background": "light"
     },
     "output_type": "display_data"
    }
   ],
   "source": [
    "print(df[\"netProfit\"].value_counts())\n",
    "df.loc[df[\"netProfit\"]<= 0,\"netProfit\"] = 0\n",
    "df.loc[df[\"netProfit\"]>= 10000000,\"netProfit\"] = 1000000\n",
    "df[\"netProfit\"].fillna(value=df[\"netProfit\"].mean(),inplace=True)\n",
    "print(df[\"netProfit\"].value_counts())\n",
    "df[\"netProfit\"].plot.hist(bins = 20,figsize=(15,7.5))"
   ],
   "metadata": {
    "collapsed": false,
    "pycharm": {
     "name": "#%%\n"
    }
   }
  },
  {
   "cell_type": "markdown",
   "source": [
    "Посмотрим на результат, перед этим обезличив данные"
   ],
   "metadata": {
    "collapsed": false,
    "pycharm": {
     "name": "#%% md\n"
    }
   }
  },
  {
   "cell_type": "code",
   "execution_count": 714,
   "outputs": [
    {
     "data": {
      "text/plain": "   companyName  industryId  creditLimit  amountOfLawsuits  \\\n0      unknown       884.0       719417          0.000000   \n1      unknown      1560.0       719417     100000.000000   \n2      unknown         0.0       719417          0.000000   \n3      unknown      1996.0       719417      10942.836802   \n4      unknown      1276.0      1000000          0.000000   \n5      unknown         0.0       719417     100000.000000   \n6      unknown       884.0      1000000     100000.000000   \n7      unknown         0.0      1000000          0.000000   \n8      unknown      1364.0       719417          0.000000   \n9      unknown       897.0       719417     100000.000000   \n10     unknown      2365.0      1000000      10942.836802   \n11     unknown      1648.0       719417          0.000000   \n12     unknown         0.0       719417          0.000000   \n13     unknown       897.0       719417     100000.000000   \n14     unknown         0.0       719417          0.000000   \n15     unknown         0.0       719417          0.000000   \n16     unknown       897.0       719417     100000.000000   \n17     unknown         0.0       719417     100000.000000   \n18     unknown      1815.0       719417          0.000000   \n19     unknown      1364.0       719417      10942.836802   \n\n    amountOfProceedings  companySizeTypeId  amountOfWorkers        capital  \\\n0          90109.000000                0.0        21.239273  100000.000000   \n1          44434.698973                2.0       100.000000  100000.000000   \n2          44434.698973                0.0        21.239273   37789.655633   \n3          44434.698973                0.0        21.239273   37789.655633   \n4          44434.698973                4.0       100.000000  100000.000000   \n5         100000.000000                0.0        21.239273  100000.000000   \n6          44434.698973                0.0        21.239273  100000.000000   \n7          44434.698973                2.0       100.000000   10000.000000   \n8          44434.698973                0.0        21.239273   37789.655633   \n9         100000.000000                0.0        21.239273  100000.000000   \n10         44434.698973                1.0         8.000000  100000.000000   \n11         44434.698973                0.0        21.239273  100000.000000   \n12         44434.698973                1.0         2.000000    7600.000000   \n13         44434.698973                0.0        21.239273  100000.000000   \n14         44434.698973                2.0        21.239273  100000.000000   \n15         44434.698973                0.0        21.239273   37789.655633   \n16             0.000000                3.0        21.239273  100000.000000   \n17         10000.000000                0.0        21.239273   37789.655633   \n18         44434.698973                1.0         2.000000  100000.000000   \n19         44434.698973                0.0        21.239273   37789.655633   \n\n         revenue     netProfit  result  \n0   1.990059e+06  1.215160e+06       1  \n1   1.000000e+06  0.000000e+00       1  \n2   1.990059e+06  1.215160e+06       1  \n3   1.990059e+06  1.215160e+06       1  \n4   1.000000e+06  1.000000e+06       1  \n5   1.990059e+06  1.215160e+06       1  \n6   1.990059e+06  1.215160e+06       1  \n7   1.000000e+06  1.000000e+06       1  \n8   1.990059e+06  1.000000e+04       1  \n9   1.990059e+06  1.215160e+06       1  \n10  4.961000e+06  1.810000e+06       1  \n11  1.990059e+06  1.215160e+06       1  \n12  5.550000e+05  0.000000e+00       1  \n13  1.990059e+06  1.215160e+06       1  \n14  1.990059e+06  1.215160e+06       1  \n15  1.990059e+06  1.215160e+06       1  \n16  1.000000e+06  1.000000e+06       1  \n17  1.990059e+06  1.215160e+06       1  \n18  3.720000e+06  0.000000e+00       1  \n19  1.990059e+06  1.215160e+06       1  ",
      "text/html": "<div>\n<style scoped>\n    .dataframe tbody tr th:only-of-type {\n        vertical-align: middle;\n    }\n\n    .dataframe tbody tr th {\n        vertical-align: top;\n    }\n\n    .dataframe thead th {\n        text-align: right;\n    }\n</style>\n<table border=\"1\" class=\"dataframe\">\n  <thead>\n    <tr style=\"text-align: right;\">\n      <th></th>\n      <th>companyName</th>\n      <th>industryId</th>\n      <th>creditLimit</th>\n      <th>amountOfLawsuits</th>\n      <th>amountOfProceedings</th>\n      <th>companySizeTypeId</th>\n      <th>amountOfWorkers</th>\n      <th>capital</th>\n      <th>revenue</th>\n      <th>netProfit</th>\n      <th>result</th>\n    </tr>\n  </thead>\n  <tbody>\n    <tr>\n      <th>0</th>\n      <td>unknown</td>\n      <td>884.0</td>\n      <td>719417</td>\n      <td>0.000000</td>\n      <td>90109.000000</td>\n      <td>0.0</td>\n      <td>21.239273</td>\n      <td>100000.000000</td>\n      <td>1.990059e+06</td>\n      <td>1.215160e+06</td>\n      <td>1</td>\n    </tr>\n    <tr>\n      <th>1</th>\n      <td>unknown</td>\n      <td>1560.0</td>\n      <td>719417</td>\n      <td>100000.000000</td>\n      <td>44434.698973</td>\n      <td>2.0</td>\n      <td>100.000000</td>\n      <td>100000.000000</td>\n      <td>1.000000e+06</td>\n      <td>0.000000e+00</td>\n      <td>1</td>\n    </tr>\n    <tr>\n      <th>2</th>\n      <td>unknown</td>\n      <td>0.0</td>\n      <td>719417</td>\n      <td>0.000000</td>\n      <td>44434.698973</td>\n      <td>0.0</td>\n      <td>21.239273</td>\n      <td>37789.655633</td>\n      <td>1.990059e+06</td>\n      <td>1.215160e+06</td>\n      <td>1</td>\n    </tr>\n    <tr>\n      <th>3</th>\n      <td>unknown</td>\n      <td>1996.0</td>\n      <td>719417</td>\n      <td>10942.836802</td>\n      <td>44434.698973</td>\n      <td>0.0</td>\n      <td>21.239273</td>\n      <td>37789.655633</td>\n      <td>1.990059e+06</td>\n      <td>1.215160e+06</td>\n      <td>1</td>\n    </tr>\n    <tr>\n      <th>4</th>\n      <td>unknown</td>\n      <td>1276.0</td>\n      <td>1000000</td>\n      <td>0.000000</td>\n      <td>44434.698973</td>\n      <td>4.0</td>\n      <td>100.000000</td>\n      <td>100000.000000</td>\n      <td>1.000000e+06</td>\n      <td>1.000000e+06</td>\n      <td>1</td>\n    </tr>\n    <tr>\n      <th>5</th>\n      <td>unknown</td>\n      <td>0.0</td>\n      <td>719417</td>\n      <td>100000.000000</td>\n      <td>100000.000000</td>\n      <td>0.0</td>\n      <td>21.239273</td>\n      <td>100000.000000</td>\n      <td>1.990059e+06</td>\n      <td>1.215160e+06</td>\n      <td>1</td>\n    </tr>\n    <tr>\n      <th>6</th>\n      <td>unknown</td>\n      <td>884.0</td>\n      <td>1000000</td>\n      <td>100000.000000</td>\n      <td>44434.698973</td>\n      <td>0.0</td>\n      <td>21.239273</td>\n      <td>100000.000000</td>\n      <td>1.990059e+06</td>\n      <td>1.215160e+06</td>\n      <td>1</td>\n    </tr>\n    <tr>\n      <th>7</th>\n      <td>unknown</td>\n      <td>0.0</td>\n      <td>1000000</td>\n      <td>0.000000</td>\n      <td>44434.698973</td>\n      <td>2.0</td>\n      <td>100.000000</td>\n      <td>10000.000000</td>\n      <td>1.000000e+06</td>\n      <td>1.000000e+06</td>\n      <td>1</td>\n    </tr>\n    <tr>\n      <th>8</th>\n      <td>unknown</td>\n      <td>1364.0</td>\n      <td>719417</td>\n      <td>0.000000</td>\n      <td>44434.698973</td>\n      <td>0.0</td>\n      <td>21.239273</td>\n      <td>37789.655633</td>\n      <td>1.990059e+06</td>\n      <td>1.000000e+04</td>\n      <td>1</td>\n    </tr>\n    <tr>\n      <th>9</th>\n      <td>unknown</td>\n      <td>897.0</td>\n      <td>719417</td>\n      <td>100000.000000</td>\n      <td>100000.000000</td>\n      <td>0.0</td>\n      <td>21.239273</td>\n      <td>100000.000000</td>\n      <td>1.990059e+06</td>\n      <td>1.215160e+06</td>\n      <td>1</td>\n    </tr>\n    <tr>\n      <th>10</th>\n      <td>unknown</td>\n      <td>2365.0</td>\n      <td>1000000</td>\n      <td>10942.836802</td>\n      <td>44434.698973</td>\n      <td>1.0</td>\n      <td>8.000000</td>\n      <td>100000.000000</td>\n      <td>4.961000e+06</td>\n      <td>1.810000e+06</td>\n      <td>1</td>\n    </tr>\n    <tr>\n      <th>11</th>\n      <td>unknown</td>\n      <td>1648.0</td>\n      <td>719417</td>\n      <td>0.000000</td>\n      <td>44434.698973</td>\n      <td>0.0</td>\n      <td>21.239273</td>\n      <td>100000.000000</td>\n      <td>1.990059e+06</td>\n      <td>1.215160e+06</td>\n      <td>1</td>\n    </tr>\n    <tr>\n      <th>12</th>\n      <td>unknown</td>\n      <td>0.0</td>\n      <td>719417</td>\n      <td>0.000000</td>\n      <td>44434.698973</td>\n      <td>1.0</td>\n      <td>2.000000</td>\n      <td>7600.000000</td>\n      <td>5.550000e+05</td>\n      <td>0.000000e+00</td>\n      <td>1</td>\n    </tr>\n    <tr>\n      <th>13</th>\n      <td>unknown</td>\n      <td>897.0</td>\n      <td>719417</td>\n      <td>100000.000000</td>\n      <td>44434.698973</td>\n      <td>0.0</td>\n      <td>21.239273</td>\n      <td>100000.000000</td>\n      <td>1.990059e+06</td>\n      <td>1.215160e+06</td>\n      <td>1</td>\n    </tr>\n    <tr>\n      <th>14</th>\n      <td>unknown</td>\n      <td>0.0</td>\n      <td>719417</td>\n      <td>0.000000</td>\n      <td>44434.698973</td>\n      <td>2.0</td>\n      <td>21.239273</td>\n      <td>100000.000000</td>\n      <td>1.990059e+06</td>\n      <td>1.215160e+06</td>\n      <td>1</td>\n    </tr>\n    <tr>\n      <th>15</th>\n      <td>unknown</td>\n      <td>0.0</td>\n      <td>719417</td>\n      <td>0.000000</td>\n      <td>44434.698973</td>\n      <td>0.0</td>\n      <td>21.239273</td>\n      <td>37789.655633</td>\n      <td>1.990059e+06</td>\n      <td>1.215160e+06</td>\n      <td>1</td>\n    </tr>\n    <tr>\n      <th>16</th>\n      <td>unknown</td>\n      <td>897.0</td>\n      <td>719417</td>\n      <td>100000.000000</td>\n      <td>0.000000</td>\n      <td>3.0</td>\n      <td>21.239273</td>\n      <td>100000.000000</td>\n      <td>1.000000e+06</td>\n      <td>1.000000e+06</td>\n      <td>1</td>\n    </tr>\n    <tr>\n      <th>17</th>\n      <td>unknown</td>\n      <td>0.0</td>\n      <td>719417</td>\n      <td>100000.000000</td>\n      <td>10000.000000</td>\n      <td>0.0</td>\n      <td>21.239273</td>\n      <td>37789.655633</td>\n      <td>1.990059e+06</td>\n      <td>1.215160e+06</td>\n      <td>1</td>\n    </tr>\n    <tr>\n      <th>18</th>\n      <td>unknown</td>\n      <td>1815.0</td>\n      <td>719417</td>\n      <td>0.000000</td>\n      <td>44434.698973</td>\n      <td>1.0</td>\n      <td>2.000000</td>\n      <td>100000.000000</td>\n      <td>3.720000e+06</td>\n      <td>0.000000e+00</td>\n      <td>1</td>\n    </tr>\n    <tr>\n      <th>19</th>\n      <td>unknown</td>\n      <td>1364.0</td>\n      <td>719417</td>\n      <td>10942.836802</td>\n      <td>44434.698973</td>\n      <td>0.0</td>\n      <td>21.239273</td>\n      <td>37789.655633</td>\n      <td>1.990059e+06</td>\n      <td>1.215160e+06</td>\n      <td>1</td>\n    </tr>\n  </tbody>\n</table>\n</div>"
     },
     "execution_count": 714,
     "metadata": {},
     "output_type": "execute_result"
    }
   ],
   "source": [
    "df[\"companyName\"] = \"unknown\"\n",
    "df.head(20)"
   ],
   "metadata": {
    "collapsed": false,
    "pycharm": {
     "name": "#%%\n"
    }
   }
  },
  {
   "cell_type": "markdown",
   "source": [
    "выгрузим результат"
   ],
   "metadata": {
    "collapsed": false,
    "pycharm": {
     "name": "#%% md\n"
    }
   }
  },
  {
   "cell_type": "code",
   "execution_count": 715,
   "outputs": [],
   "source": [
    "df.to_csv('resources/prepared_data.csv')"
   ],
   "metadata": {
    "collapsed": false,
    "pycharm": {
     "name": "#%%\n"
    }
   }
  }
 ],
 "metadata": {
  "kernelspec": {
   "display_name": "Python 3",
   "language": "python",
   "name": "python3"
  },
  "language_info": {
   "codemirror_mode": {
    "name": "ipython",
    "version": 2
   },
   "file_extension": ".py",
   "mimetype": "text/x-python",
   "name": "python",
   "nbconvert_exporter": "python",
   "pygments_lexer": "ipython2",
   "version": "2.7.6"
  }
 },
 "nbformat": 4,
 "nbformat_minor": 0
}